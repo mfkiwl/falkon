{
 "cells": [
  {
   "cell_type": "markdown",
   "metadata": {
    "collapsed": true,
    "pycharm": {
     "name": "#%% md\n"
    }
   },
   "source": [
    "Run the timings and plot results"
   ]
  },
  {
   "cell_type": "code",
   "source": [
    "from typing import List, Dict, Any\n",
    "import json\n",
    "import functools\n",
    "\n",
    "import matplotlib.pyplot as plt\n",
    "import torch\n",
    "import numpy as np\n",
    "\n",
    "from mmv_timings import run_mmv_exp\n",
    "from lauum_timings import run_lauum_exp\n",
    "from potrf_timings import run_potrf_exp\n",
    "\n",
    "import falkon\n",
    "from falkon.kernels import GaussianKernel\n",
    "from falkon.ooc_ops.ooc_potrf import gpu_cholesky\n",
    "from scipy.linalg.lapack import spotrf, dpotrf"
   ],
   "metadata": {
    "collapsed": false,
    "pycharm": {
     "name": "#%%\n"
    }
   },
   "execution_count": 15,
   "outputs": []
  },
  {
   "cell_type": "code",
   "execution_count": 10,
   "outputs": [
    {
     "data": {
      "text/plain": "0"
     },
     "execution_count": 10,
     "metadata": {},
     "output_type": "execute_result"
    }
   ],
   "source": [
    "num_gpus = torch.cuda.device_count()\n",
    "num_gpus"
   ],
   "metadata": {
    "collapsed": false,
    "pycharm": {
     "name": "#%%\n"
    }
   }
  },
  {
   "cell_type": "code",
   "execution_count": 11,
   "outputs": [],
   "source": [
    "kernel = GaussianKernel(3.0)"
   ],
   "metadata": {
    "collapsed": false,
    "pycharm": {
     "name": "#%%\n"
    }
   }
  },
  {
   "cell_type": "markdown",
   "source": [
    "## MMV Experiments"
   ],
   "metadata": {
    "collapsed": false,
    "pycharm": {
     "name": "#%% md\n"
    }
   }
  },
  {
   "cell_type": "markdown",
   "source": [
    "### Run the experiments"
   ],
   "metadata": {
    "collapsed": false,
    "pycharm": {
     "name": "#%% md\n"
    }
   }
  },
  {
   "cell_type": "code",
   "execution_count": null,
   "outputs": [],
   "source": [
    "Ns = [1_000, 5_000, 20_000, 50_000, 100_000, 200_000, 400_000, 600_000, 1_000_000, 2_000_000, 10_000_000]\n",
    "Ds = [50, 100, 250, 1000, 2000, 3000, 5000, 7500, 10_000]\n",
    "defaultM = 20_000\n",
    "defaultN = 20_000\n",
    "defaultT = 10\n",
    "defaultD = 10"
   ],
   "metadata": {
    "collapsed": false,
    "pycharm": {
     "name": "#%%\n"
    }
   }
  },
  {
   "cell_type": "code",
   "execution_count": null,
   "outputs": [],
   "source": [
    "experiments = [\n",
    "    {\n",
    "        'exp_name': 'varying N - KeOps 32',\n",
    "        'changing_var': 'N',\n",
    "        'data_sizes': {\n",
    "            'N': Ns,\n",
    "            'M': defaultM,\n",
    "            'D': defaultD,\n",
    "            'T': defaultT,\n",
    "        },\n",
    "        'kernel': kernel,\n",
    "        'dtype': torch.float32,\n",
    "        'num_reps': 10,\n",
    "        'fn': 'kernel._keops_mmv_impl(X1, X2, v, kernel, out=None, opt=FalkonOptions(keops_active=\"force\", compute_arch_speed=False));',\n",
    "    },\n",
    "    {\n",
    "        'exp_name': 'varying N - Our 32',\n",
    "        'changing_var': 'N',\n",
    "        'data_sizes': {\n",
    "            'N': Ns,\n",
    "            'M': defaultM,\n",
    "            'D': defaultD,\n",
    "            'T': defaultT,\n",
    "        },\n",
    "        'kernel': kernel,\n",
    "        'dtype': torch.float32,\n",
    "        'num_reps': 10,\n",
    "        'fn': 'kernel.mmv(X1, X2, v, out=None, opt=FalkonOptions(keops_active=\"no\", compute_arch_speed=False));'\n",
    "    },\n",
    "    {\n",
    "        'exp_name': 'varying D - KeOps 32',\n",
    "        'changing_var': 'D',\n",
    "        'data_sizes': {\n",
    "            'N': defaultN,\n",
    "            'M': defaultM,\n",
    "            'D': Ds,\n",
    "            'T': defaultT,\n",
    "        },\n",
    "        'kernel': kernel,\n",
    "        'dtype': torch.float32,\n",
    "        'num_reps': 10,\n",
    "        'fn': 'kernel.keops_mmv_impl(X1, X2, v, kernel, out=None, opt=FalkonOptions(keops_active=\"force\", compute_arch_speed=False));'\n",
    "    },\n",
    "    {\n",
    "        'exp_name': 'varying D - Our 32',\n",
    "        'changing_var': 'D',\n",
    "        'data_sizes': {\n",
    "            'N': defaultN,\n",
    "            'M': defaultM,\n",
    "            'D': Ds,\n",
    "            'T': defaultT,\n",
    "        },\n",
    "        'kernel': kernel,\n",
    "        'dtype': torch.float32,\n",
    "        'num_reps': 10,\n",
    "        'fn': 'kernel.mmv(X1, X2, v, out=None, opt=FalkonOptions(keops_active=\"no\", compute_arch_speed=False));'\n",
    "    },\n",
    "]"
   ],
   "metadata": {
    "collapsed": false,
    "pycharm": {
     "name": "#%%\n"
    }
   }
  },
  {
   "cell_type": "code",
   "execution_count": null,
   "outputs": [],
   "source": [
    "for exp in experiments:\n",
    "    exp_times = run_mmv_exp(**exp)\n",
    "    exp['timings'] = exp_times\n",
    "    # Remove the stuff we can't serialize\n",
    "    exp['kernel'] = None\n",
    "    exp['dtype'] = None\n",
    "with open(\"logs/mmv_timings_%dGPU.json\" % (num_gpus), \"w\") as fh:\n",
    "    json.dump(experiments, fh)"
   ],
   "metadata": {
    "collapsed": false,
    "pycharm": {
     "name": "#%%\n"
    }
   }
  },
  {
   "cell_type": "markdown",
   "source": [
    "### Plot results"
   ],
   "metadata": {
    "collapsed": false,
    "pycharm": {
     "name": "#%% md\n"
    }
   }
  },
  {
   "cell_type": "code",
   "execution_count": 12,
   "outputs": [],
   "source": [
    "plot_gpus = 1"
   ],
   "metadata": {
    "collapsed": false,
    "pycharm": {
     "name": "#%%\n"
    }
   }
  },
  {
   "cell_type": "code",
   "execution_count": 16,
   "outputs": [],
   "source": [
    "with open(\"logs/mmv_timings_%dGPU.json\" % (plot_gpus), \"r\") as fh:\n",
    "    experiments = json.load(fh)"
   ],
   "metadata": {
    "collapsed": false,
    "pycharm": {
     "name": "#%%\n"
    }
   }
  },
  {
   "cell_type": "code",
   "execution_count": 26,
   "outputs": [
    {
     "data": {
      "text/plain": "<Figure size 432x288 with 2 Axes>",
      "image/png": "[encoded data removed]"
     },
     "metadata": {
      "needs_background": "light"
     },
     "output_type": "display_data"
    }
   ],
   "source": [
    "fig, axs = plt.subplots(ncols=2)\n",
    "\n",
    "ax = axs[0]\n",
    "n_keops = [e for e in experiments if e['exp_name'] == 'varying N - KeOps 32'][0]\n",
    "n_our = [e for e in experiments if e['exp_name'] == 'varying N - Our 32'][0]\n",
    "\n",
    "ax.scatter(n_our['data_sizes']['N'], n_our['timings'], label='Our')\n",
    "ax.scatter(n_keops['data_sizes']['N'], n_keops['timings'], label='KeOps')\n",
    "\n",
    "ax.set_xlabel('N')\n",
    "ax.set_ylabel('Time (s)')\n",
    "ax.set_xscale('log')\n",
    "\n",
    "ax = axs[1]\n",
    "n_keops = [e for e in experiments if e['exp_name'] == 'varying D - KeOps 32'][0]\n",
    "n_our = [e for e in experiments if e['exp_name'] == 'varying D - Our 32'][0]\n",
    "\n",
    "ax.scatter(n_our['data_sizes']['D'], n_our['timings'], label='Our')\n",
    "ax.scatter(n_keops['data_sizes']['D'], n_keops['timings'], label='KeOps')\n",
    "\n",
    "ax.set_xlabel('D')\n",
    "ax.set_ylabel('Time (s)')\n",
    "ax.set_xscale('log')\n",
    "\n",
    "handles, labels = ax.get_legend_handles_labels()\n",
    "fig.legend(handles, labels, loc='upper center', ncol=2, bbox_to_anchor=(0.5, 1.1))\n",
    "\n",
    "fig.tight_layout()"
   ],
   "metadata": {
    "collapsed": false,
    "pycharm": {
     "name": "#%%\n"
    }
   }
  },
  {
   "cell_type": "markdown",
   "source": [
    "## POTRF\n"
   ],
   "metadata": {
    "collapsed": false,
    "pycharm": {
     "name": "#%% md\n"
    }
   }
  },
  {
   "cell_type": "markdown",
   "source": [
    "### Run Experiment\n"
   ],
   "metadata": {
    "collapsed": false,
    "pycharm": {
     "name": "#%% md\n"
    }
   }
  },
  {
   "cell_type": "code",
   "execution_count": null,
   "outputs": [],
   "source": [
    "defaultN32 = [10_000, 20_000, 30_000, 40_000, 50_000, 65_000, 80_000, 100_000, 120_000, 140_000]\n",
    "defaultN64 = [10_000, 20_000, 30_000, 40_000, 50_000, 65_000, 80_000]\n",
    "falkon.FalkonOptions(chol_force_ooc=True, chol_par_blk_multiplier=2, compute_arch_speed=False)"
   ],
   "metadata": {
    "collapsed": false,
    "pycharm": {
     "name": "#%%\n"
    }
   }
  },
  {
   "cell_type": "code",
   "execution_count": null,
   "outputs": [],
   "source": [
    "potrf_exps: List[Dict[str, Any]] = [\n",
    "    {\n",
    "        'exp_name': 'Parallel 32',\n",
    "        'exp_sizes': defaultN32,\n",
    "        'dtype': np.float32,\n",
    "        'num_reps': 3,\n",
    "        'is_torch': True,\n",
    "        'fn': functools.partial(\n",
    "            gpu_cholesky, upper=False, clean=False, overwrite=True,\n",
    "            opt=falkon.FalkonOptions(chol_force_ooc=True, chol_par_blk_multiplier=2)),\n",
    "    },\n",
    "    {\n",
    "        'exp_name': 'Parallel 64',\n",
    "        'exp_sizes': defaultN64,\n",
    "        'dtype': np.float64,\n",
    "        'num_reps': 3,\n",
    "        'is_torch': True,\n",
    "        'fn': functools.partial(\n",
    "            gpu_cholesky, upper=False, clean=False, overwrite=True,\n",
    "            opt=falkon.FalkonOptions(chol_force_ooc=True, chol_par_blk_multiplier=2,\n",
    "                                     compute_arch_speed=False)),\n",
    "    },\n",
    "    {\n",
    "        'exp_name': 'CPU 32',\n",
    "        'exp_sizes': defaultN32,\n",
    "        'dtype': np.float32,\n",
    "        'num_reps': 3,\n",
    "        'is_torch': False,\n",
    "        'fn': functools.partial(spotrf, lower=True, clean=False, overwrite_a=True),\n",
    "    },\n",
    "    {\n",
    "        'exp_name': 'CPU 64',\n",
    "        'exp_sizes': defaultN64,\n",
    "        'dtype': np.float64,\n",
    "        'num_reps': 2,\n",
    "        'is_torch': False,\n",
    "        'fn': functools.partial(dpotrf, lower=True, clean=False, overwrite_a=True),\n",
    "    },\n",
    "]"
   ],
   "metadata": {
    "collapsed": false,
    "pycharm": {
     "name": "#%%\n"
    }
   }
  },
  {
   "cell_type": "code",
   "execution_count": null,
   "outputs": [],
   "source": [
    "for exp in experiments:\n",
    "    exp_times = run_potrf_exp(**exp)\n",
    "    exp['timings'] = exp_times\n",
    "with open(\"logs/potrf_timings_%dGPU.json\" % (num_gpu), \"w\") as fh:\n",
    "    json.dump(experiments, fh)\n"
   ],
   "metadata": {
    "collapsed": false,
    "pycharm": {
     "name": "#%%\n"
    }
   }
  }
 ],
 "metadata": {
  "kernelspec": {
   "display_name": "Python 3",
   "language": "python",
   "name": "python3"
  },
  "language_info": {
   "codemirror_mode": {
    "name": "ipython",
    "version": 2
   },
   "file_extension": ".py",
   "mimetype": "text/x-python",
   "name": "python",
   "nbconvert_exporter": "python",
   "pygments_lexer": "ipython2",
   "version": "2.7.6"
  }
 },
 "nbformat": 4,
 "nbformat_minor": 0
}