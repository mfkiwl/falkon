{
 "cells": [
  {
   "cell_type": "markdown",
   "metadata": {},
   "source": [
    "# SVM Comparison\n",
    "This notebook runs a comparison between ThunderSVM and Falkon on 3 multi-class classification datasets:\n",
    " - SVHN\n",
    " - CIFAR10\n",
    " - MNIST\n",
    "\n",
    "The datasets are all of *moderate* size and we will observe that ThunderSVM is fast but suffers from bad scaling with the number of points: on the larger datasets Falkon is much faster than TSVM, but not on the smaller datasets.\n",
    "\n",
    "[ThunderSVM](https://github.com/Xtra-Computing/thundersvm) is a GPU-accelerated SVM solver. It runs on a single GPU so also Falkon was run on only 1 GPU.\n",
    "\n",
    "Note that running the notebook as-is may not work since Falkon uses the PyTorch GPU allocator and ThunderSVM does not, so it may happen that -- depending on who runs first -- the other algorithm fails since it does not have enough memory. If this happens restart the notebook and run one of the two methods."
   ]
  },
  {
   "cell_type": "code",
   "execution_count": 1,
   "metadata": {},
   "outputs": [],
   "source": [
    "%load_ext autoreload\n",
    "%autoreload 2"
   ]
  },
  {
   "cell_type": "code",
   "execution_count": 2,
   "metadata": {},
   "outputs": [],
   "source": [
    "from sklearn.datasets import *\n",
    "from scipy import sparse\n",
    "import scipy\n",
    "import numpy as np\n",
    "from thundersvm import *\n",
    "from sklearn import svm\n",
    "import time"
   ]
  },
  {
   "cell_type": "code",
   "execution_count": 3,
   "metadata": {},
   "outputs": [],
   "source": [
    "import os, sys\n",
    "os.environ[\"CUDA_VISIBLE_DEVICES\"] = \"0\"\n",
    "sys.path.append(\"../benchmark\")\n",
    "sys.path.append(\"../falkon\")"
   ]
  },
  {
   "cell_type": "code",
   "execution_count": 4,
   "metadata": {},
   "outputs": [],
   "source": [
    "RANDOM_SEED = 91\n",
    "import functools\n",
    "\n",
    "from datasets import get_load_fn\n",
    "from error_metrics import get_err_fns\n",
    "from benchmark_utils import *\n",
    "\n",
    "import torch\n",
    "from falkon import kernels, Falkon, InCoreFalkon, FalkonOptions"
   ]
  },
  {
   "cell_type": "markdown",
   "metadata": {},
   "source": [
    "## Runner Functions"
   ]
  },
  {
   "cell_type": "code",
   "execution_count": 46,
   "metadata": {},
   "outputs": [],
   "source": [
    "def run_libsvm(Xtr, Xts, Ytr, Yts, sigma, C, err_fn):\n",
    "    gamma = 1/(2*sigma**2)\n",
    "    tsvm = svm.SVC(C=C, gamma=gamma, kernel='rbf', verbose=True)\n",
    "    t_s = time.time()\n",
    "    tsvm.fit(Xtr.numpy(), Ytr.argmax(1))\n",
    "    t_e = time.time()\n",
    "    preds = tsvm.predict(Xts.numpy())\n",
    "    test_err, test_err_name = err_fn(Yts, torch.from_numpy(preds.reshape(-1, 1)))\n",
    "    print(\"LIBSVM elapsed %.2fs\" % (t_e - t_s))\n",
    "    print(f\"Sigma {sigma} - C {C} - \"\n",
    "          f\"Test {test_err_name}: {test_err:9.6f}\", flush=True)\n",
    "    return test_err, t_e - t_s\n",
    "\n",
    "def run_thundersvm(Xtr, Xts, Ytr, Yts, sigma, C, err_fn):\n",
    "    gamma = 1/(2*sigma**2)\n",
    "    tsvm = SVC(C=C, gamma=gamma, kernel='rbf', verbose=True)\n",
    "    t_s = time.time()\n",
    "    tsvm.fit(Xtr.numpy(), Ytr.argmax(1))\n",
    "    t_e = time.time()\n",
    "    preds = tsvm.predict(Xts.numpy())\n",
    "    test_err, test_err_name = err_fn(Yts, torch.from_numpy(preds.reshape(-1, 1)))\n",
    "    print(\"THUNDERSVM elapsed %.2fs\" % (t_e - t_s))\n",
    "    print(f\"Sigma {sigma} - C {C} - \"\n",
    "          f\"Test {test_err_name}: {test_err:9.6f}\", flush=True)\n",
    "    return test_err, t_e - t_s\n",
    "\n",
    "def run_flk(Xtr, Xts, Ytr, Yts, sigma, penalty, M, num_iter, err_fn):\n",
    "    # Arguments\n",
    "    k = kernels.GaussianKernel(sigma)\n",
    "    opt = FalkonOptions(compute_arch_speed=False, no_single_kernel=True, pc_epsilon_32=1e-6, debug=False)\n",
    "    flk = Falkon(\n",
    "        kernel=k,\n",
    "        penalty=penalty,\n",
    "        M=M,\n",
    "        maxiter=num_iter,\n",
    "        seed=1234-21,\n",
    "        error_fn=err_fn,\n",
    "        error_every=1,\n",
    "        options=opt\n",
    "    )\n",
    "    t_s = time.time()\n",
    "    flk.fit(Xtr, Ytr, Xts, Yts)\n",
    "    t_e = time.time()\n",
    "    test_preds = flk.predict(Xts).cpu()\n",
    "    test_err, test_err_name = err_fn(Yts, test_preds)\n",
    "    print(\"Falkon elapsed %.2fs\" % (t_e - t_s))\n",
    "    print(f\"M {M} - Sigma {sigma} - Lambda {penalty} - \"\n",
    "          f\"Test {test_err_name}: {test_err:9.6f}\", flush=True)\n",
    "    return test_err, t_e - t_s\n",
    "\n",
    "\n",
    "def run_flk_incore(Xtr, Xts, Ytr, Yts, sigma, penalty, M, num_iter, err_fn, do_test=False):\n",
    "    # Arguments\n",
    "    k = kernels.GaussianKernel(sigma)\n",
    "    opt = FalkonOptions(compute_arch_speed=False, no_single_kernel=True, pc_epsilon_32=1e-6, debug=False)\n",
    "    flk = InCoreFalkon(\n",
    "        kernel=k,\n",
    "        penalty=penalty,\n",
    "        M=M,\n",
    "        maxiter=num_iter,\n",
    "        seed=1234-21,\n",
    "        error_fn=err_fn if not do_test else None,\n",
    "        error_every=1,\n",
    "        options=opt\n",
    "    )\n",
    "    t_s = time.time()\n",
    "    Xtr = Xtr.cuda()\n",
    "    Ytr = Ytr.cuda()\n",
    "    Xts = Xts.cuda()\n",
    "    Yts = Yts.cuda()\n",
    "    flk.fit(Xtr, Ytr, Xts, Yts)\n",
    "    t_e = time.time()\n",
    "    test_preds = flk.predict(Xts).cpu()\n",
    "    test_err, test_err_name = err_fn(Yts, test_preds)\n",
    "    print(\"Falkon elapsed %.2fs\" % (t_e - t_s))\n",
    "    print(f\"M {M} - Sigma {sigma} - Lambda {penalty} - \"\n",
    "          f\"Test {test_err_name}: {test_err:9.6f}\", flush=True)\n",
    "    return test_err, t_e - t_s"
   ]
  },
  {
   "cell_type": "markdown",
   "metadata": {},
   "source": [
    "## MNIST"
   ]
  },
  {
   "cell_type": "code",
   "execution_count": 6,
   "metadata": {},
   "outputs": [
    {
     "name": "stdout",
     "output_type": "stream",
     "text": [
      "Loaded MNIST dataset in <class 'numpy.float32'> precision.\n",
      "Split the data into 60000 training, 10000 validation points of dimension 780.\n",
      "Data-preprocessing completed.\n"
     ]
    }
   ],
   "source": [
    "dset = Dataset.MNIST_SMALL\n",
    "Xtr, Ytr, Xts, Yts, kwargs = get_load_fn(dset)(dtype=np.float32, as_torch=True)\n",
    "m = torch.mean(Xtr)\n",
    "s = torch.std(Xtr)\n",
    "Xtr -= m\n",
    "Xtr /= s\n",
    "Xts -= m\n",
    "Xts /= s"
   ]
  },
  {
   "cell_type": "code",
   "execution_count": 47,
   "metadata": {
    "scrolled": false
   },
   "outputs": [
    {
     "name": "stdout",
     "output_type": "stream",
     "text": [
      "Falkon elapsed 6.52s\n",
      "M 20000 - Sigma 19.8 - Lambda 5e-09 - Test c-error:  0.135700\n",
      "\n",
      "\n",
      "\n"
     ]
    }
   ],
   "source": [
    "err_fns = get_err_fns(dset)\n",
    "err_fns = [functools.partial(fn, **kwargs) for fn in err_fns]\n",
    "\n",
    "if True:\n",
    "    mnist_err_flk, mnist_time_flk = run_flk_incore(\n",
    "        Xtr, Xts, Ytr, Yts, sigma=19.8, penalty=5e-9, M=20000, num_iter=5, err_fn=err_fns[0], do_test=True)\n",
    "    print(\"\\n\\n\")\n",
    "if False:\n",
    "    mnist_err_flk, mnist_time_flk = run_flk(\n",
    "        Xtr, Xts, Ytr, Yts, sigma=24, penalty=1e-9, M=20000, num_iter=5, err_fn=err_fns[0])\n",
    "    print(\"\\n\\n\")\n",
    "if False:\n",
    "    mnist_err_thund, mnist_time_thund = run_thundersvm(\n",
    "        Xtr, Xts, Ytr, Yts, sigma=15, C=100, err_fn=err_fns[0])\n",
    "    print(\"\\n\\n\")\n",
    "if False:\n",
    "    mnist_err_libs, mnist_time_libs = run_libsvm(\n",
    "        Xtr, Xts, Ytr, Yts, sigma=15, C=100, err_fn=err_fns[0])\n",
    "    print(\"\\n\\n\")"
   ]
  },
  {
   "cell_type": "markdown",
   "metadata": {},
   "source": [
    "##### In-Core Falkon\n",
    " - elapsed 6.52s\n",
    " - M 20000 - Sigma 19.8 - Lambda 5e-09 - Test c-error:  0.135700\n",
    "\n",
    "##### Falkon \n",
    " - elapsed 10.85s\n",
    " - M 20000 - Sigma 24 - Lambda 1e-09 - Test c-error:  0.137600\n",
    "\n",
    "##### THUNDERSVM\n",
    " - elapsed 19.55s\n",
    " - Sigma 15 - C 100 - Test c-error:  0.134700\n",
    " \n",
    "##### LIBSVM \n",
    " - elapsed 660.99s\n",
    " - Sigma 15 - C 100 - Test c-error:  0.134500"
   ]
  },
  {
   "cell_type": "markdown",
   "metadata": {},
   "source": [
    "## SVHN"
   ]
  },
  {
   "cell_type": "code",
   "execution_count": 48,
   "metadata": {},
   "outputs": [
    {
     "name": "stdout",
     "output_type": "stream",
     "text": [
      "Loaded SVHN dataset in <class 'numpy.float32'> precision.\n",
      "Split the data into 73257 training, 26032 validation points of dimension 1024.\n",
      "Data-preprocessing completed.\n"
     ]
    }
   ],
   "source": [
    "dset = Dataset.SVHN\n",
    "Xtr, Ytr, Xts, Yts, kwargs = get_load_fn(dset)(dtype=np.float32, as_torch=True)\n",
    "err_fns = get_err_fns(dset)\n",
    "err_fns = [functools.partial(fn, **kwargs) for fn in err_fns]"
   ]
  },
  {
   "cell_type": "code",
   "execution_count": 51,
   "metadata": {},
   "outputs": [
    {
     "name": "stdout",
     "output_type": "stream",
     "text": [
      "Falkon elapsed 7.85s\n",
      "M 20000 - Sigma 5 - Lambda 5e-07 - Test c-error:  0.231830\n"
     ]
    }
   ],
   "source": [
    "if True:\n",
    "    svhn_err_flkic, svhn_time_flkic = run_flk_incore(\n",
    "         Xtr, Xts, Ytr, Yts, sigma=5, penalty=5e-7, M=20000, num_iter=5, err_fn=err_fns[0], do_test=True)\n",
    "if False:\n",
    "    svhn_err_flk, svhn_time_flk = run_flk(\n",
    "        Xtr, Xts, Ytr, Yts, sigma=5, penalty=5e-7, M=20000, num_iter=5, err_fn=err_fns[0])\n",
    "if False:\n",
    "    svhn_err_thund, svhn_time_thund = run_thundersvm(\n",
    "        Xtr, Xts, Ytr, Yts, sigma=5, C=20, err_fn=err_fns[0])\n",
    "if False:\n",
    "    svhn_err_thund, svhn_time_thund = run_libsvm(\n",
    "        Xtr, Xts, Ytr, Yts, sigma=5, C=20, err_fn=err_fns[0])"
   ]
  },
  {
   "cell_type": "markdown",
   "metadata": {},
   "source": [
    "##### THUNDERSVM\n",
    " - elapsed 166.44s\n",
    " - Sigma 5 - C 20 - Test c-error:  0.234673\n",
    "\n",
    "##### Falkon \n",
    " - elapsed 17.20s\n",
    " - M 20000 - Sigma 5 - Lambda 5e-07 - Test c-error:  0.231062\n",
    " \n",
    "#### In-Core Falkon\n",
    " - elapsed 7.85s\n",
    " - M 20000 - Sigma 5 - Lambda 5e-07 - Test c-error:  0.231830"
   ]
  },
  {
   "cell_type": "markdown",
   "metadata": {},
   "source": [
    "## CIFAR10"
   ]
  },
  {
   "cell_type": "code",
   "execution_count": 52,
   "metadata": {},
   "outputs": [
    {
     "name": "stdout",
     "output_type": "stream",
     "text": [
      "Loaded CIFAR10 dataset in <class 'numpy.float32'> precision.\n",
      "Split the data into 50000 training, 10000 validation points of dimension 1024.\n",
      "Data-preprocessing completed.\n"
     ]
    }
   ],
   "source": [
    "dset = Dataset.CIFAR10\n",
    "Xtr, Ytr, Xts, Yts, kwargs = get_load_fn(dset)(dtype=np.float32, as_torch=True)\n",
    "err_fns = get_err_fns(dset)\n",
    "err_fns = [functools.partial(fn, **kwargs) for fn in err_fns]"
   ]
  },
  {
   "cell_type": "code",
   "execution_count": 53,
   "metadata": {},
   "outputs": [
    {
     "name": "stdout",
     "output_type": "stream",
     "text": [
      "Iteration   1 - Elapsed 3.9s - validation c-error: 0.5352\n",
      "Iteration   2 - Elapsed 4.6s - validation c-error: 0.5221\n",
      "Iteration   3 - Elapsed 5.0s - validation c-error: 0.5191\n",
      "Iteration   4 - Elapsed 5.5s - validation c-error: 0.5195\n",
      "Iteration   5 - Elapsed 5.9s - validation c-error: 0.5188\n",
      "Falkon elapsed 6.72s\n",
      "M 20000 - Sigma 5 - Lambda 2e-06 - Test c-error:  0.518800\n"
     ]
    }
   ],
   "source": [
    "if True:\n",
    "    cifar_err_flkic, cifar_time_flkic = run_flk_incore(\n",
    "        Xtr, Xts, Ytr, Yts, sigma=5, penalty=2e-6, M=20000, num_iter=5, err_fn=err_fns[0], do_test=False)\n",
    "if False:\n",
    "    cifar_err_flk, cifar_time_flk = run_flk(\n",
    "        Xtr, Xts, Ytr, Yts, sigma=5, penalty=2e-6, M=20000, num_iter=5, err_fn=err_fns[0])\n",
    "if False:\n",
    "    cifar_err_thund, cifar_time_thund = run_thundersvm(\n",
    "        Xtr, Xts, Ytr, Yts, sigma=5, C=5, err_fn=err_fns[0])"
   ]
  },
  {
   "cell_type": "markdown",
   "metadata": {},
   "source": [
    "##### Falkon \n",
    " - elapsed 13.68s\n",
    " - M 20000 - Sigma 5 - Lambda 2e-06 - Test c-error:  0.519000\n",
    "\n",
    "##### THUNDERSVM \n",
    " - elapsed 82.92s\n",
    " - Sigma 5 - C 5 - Test c-error:  0.519800\n",
    " \n",
    "#### In-Core Falkon\n",
    " - elapsed 6.72s\n",
    " - M 20000 - Sigma 5 - Lambda 2e-06 - Test c-error:  0.518800"
   ]
  },
  {
   "cell_type": "code",
   "execution_count": 3,
   "metadata": {},
   "outputs": [],
   "source": [
    "import matplotlib.pyplot as plt\n",
    "import matplotlib.patches as patches"
   ]
  },
  {
   "cell_type": "code",
   "execution_count": 2,
   "metadata": {},
   "outputs": [
    {
     "name": "stdout",
     "output_type": "stream",
     "text": [
      "185363.80004736633\n",
      "51810.75718419873\n"
     ]
    }
   ],
   "source": [
    "import math\n",
    "print(math.sqrt(128*2**30 / 4))\n",
    "print(math.sqrt(10*2**30 / 4))"
   ]
  },
  {
   "cell_type": "code",
   "execution_count": 17,
   "metadata": {},
   "outputs": [
    {
     "data": {
      "image/png": "[encoded data removed]",
      "text/plain": [
       "<Figure size 432x288 with 1 Axes>"
      ]
     },
     "metadata": {
      "needs_background": "light"
     },
     "output_type": "display_data"
    }
   ],
   "source": [
    "fig, ax = plt.subplots()\n",
    "\n",
    "rect1 = patches.Rectangle((0,0),185_000, 185_000,linewidth=1,edgecolor='r',facecolor='none')\n",
    "rect2 = patches.Rectangle((0,0),51810, 51810,linewidth=1,edgecolor='k',facecolor='none')\n",
    "ax.add_patch(rect1)\n",
    "ax.add_patch(rect2)\n",
    "\n",
    "ax.set_xlim([-1000, 200_000])\n",
    "ax.set_ylim([-1000, 200_000])\n",
    "ax.set_xticklabels([])\n",
    "_ = ax.set_yticklabels([])"
   ]
  },
  {
   "cell_type": "code",
   "execution_count": null,
   "metadata": {},
   "outputs": [],
   "source": []
  }
 ],
 "metadata": {
  "kernelspec": {
   "display_name": "Python 3",
   "language": "python",
   "name": "python3"
  },
  "language_info": {
   "codemirror_mode": {
    "name": "ipython",
    "version": 3
   },
   "file_extension": ".py",
   "mimetype": "text/x-python",
   "name": "python",
   "nbconvert_exporter": "python",
   "pygments_lexer": "ipython3",
   "version": "3.8.3"
  },
  "toc": {
   "base_numbering": 1,
   "nav_menu": {},
   "number_sections": true,
   "sideBar": true,
   "skip_h1_title": false,
   "title_cell": "Table of Contents",
   "title_sidebar": "Contents",
   "toc_cell": false,
   "toc_position": {},
   "toc_section_display": true,
   "toc_window_display": false
  }
 },
 "nbformat": 4,
 "nbformat_minor": 4
}
